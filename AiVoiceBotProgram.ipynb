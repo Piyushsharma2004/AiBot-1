{
 "cells": [
  {
   "cell_type": "code",
   "execution_count": null,
   "metadata": {},
   "outputs": [],
   "source": [
    "!pip install langchain\n",
    "!pip install openai\n",
    "!pip install gradio\n",
    "!pip install huggingface_hub"
   ]
  },
  {
   "cell_type": "code",
   "execution_count": null,
   "metadata": {},
   "outputs": [],
   "source": [
    "import os\n",
    "import re\n",
    "import requests\n",
    "import json\n",
    "import gradio as gr\n",
    "from langchain.chat_models import ChatOpenAI\n",
    "from langchain import LLMChain, PromptTemplate\n",
    "from langchain.memory import ConversationBufferMemory"
   ]
  },
  {
   "cell_type": "code",
   "execution_count": null,
   "metadata": {},
   "outputs": [],
   "source": [
    "OPENAI_API_KEY=\"<secret-key>\"\n",
    "PLAY_HT_API_KEY=\"<secret-key>\"\n",
    "PLAY_HT_USER_ID=\"<secret-key>\""
   ]
  },
  {
   "cell_type": "code",
   "execution_count": null,
   "metadata": {},
   "outputs": [],
   "source": [
    "play_ht_api_get_audio_url = \"<secret-key>\"\n",
    "PLAY_HT_VOICE_ID=\"<secret-key>\""
   ]
  },
  {
   "cell_type": "markdown",
   "metadata": {},
   "source": [
    "template = \"\"\"Meet Priyanka, your youthful and witty personal assistant! At 21 years old, she's full of energy and always eager to help. Priyanka's goal is to assist you with any questions or problems you might have. Her enthusiasm shines through in every response, making interactions with her enjoyable and engaging.\n",
    "{chat_history}\n",
    "User: {user_message}\n",
    "Chatbot:\"\"\"\n",
    "\n",
    "prompt = PromptTemplate(\n",
    "    input_variables=[\"chat_history\", \"user_message\"], template=template\n",
    ")\n",
    "\n",
    "memory = ConversationBufferMemory(memory_key=\"chat_history\")"
   ]
  },
  {
   "cell_type": "code",
   "execution_count": null,
   "metadata": {},
   "outputs": [],
   "source": [
    "llm_chain = LLMChain(\n",
    "    llm=ChatOpenAI(temperature='0.5', model_name=\"gpt-3.5-turbo\"),\n",
    "    prompt=prompt,\n",
    "    verbose=True,\n",
    "    memory=memory,\n",
    ")"
   ]
  },
  {
   "cell_type": "code",
   "execution_count": null,
   "metadata": {},
   "outputs": [],
   "source": [
    "def get_payload(text):\n",
    "  return {\n",
    "    \"text\": text,\n",
    "    \"voice\": PLAY_HT_VOICE_ID,\n",
    "    \"quality\": \"medium\",\n",
    "    \"output_format\": \"mp3\",\n",
    "    \"speed\": 1,\n",
    "    \"sample_rate\": 24000,\n",
    "    \"seed\": None,\n",
    "    \"temperature\": None\n",
    "  }\n",
    "\n",
    "def get_generated_audio(text):\n",
    "  payload = get_payload(text)\n",
    "  generated_response = {}\n",
    "  try:\n",
    "      response = requests.post(play_ht_api_get_audio_url, json=payload, headers=headers)\n",
    "      response.raise_for_status()\n",
    "      generated_response[\"type\"]= 'SUCCESS'\n",
    "      generated_response[\"response\"] = response.text\n",
    "  except requests.exceptions.RequestException as e:\n",
    "      generated_response[\"type\"]= 'ERROR'\n",
    "      try:\n",
    "        response_text = json.loads(response.text)\n",
    "        if response_text['error_message']:\n",
    "          generated_response[\"response\"] = response_text['error_message']\n",
    "        else:\n",
    "          generated_response[\"response\"] = response.text\n",
    "      except Exception as e:\n",
    "        generated_response[\"response\"] = response.text\n",
    "  except Exception as e:\n",
    "    generated_response[\"type\"]= 'ERROR'\n",
    "    generated_response[\"response\"] = response.text\n",
    "  return generated_response\n",
    "\n",
    "def extract_urls(text):\n",
    "    # Define the regex pattern for URLs\n",
    "    url_pattern = r'https?://(?:[-\\w.]|(?:%[\\da-fA-F]{2}))+[/\\w\\.-]*'\n",
    "\n",
    "    # Find all occurrences of URLs in the text\n",
    "    urls = re.findall(url_pattern, text)\n",
    "\n",
    "    return urls\n",
    "\n",
    "def get_audio_reply_for_question(text):\n",
    "  generated_audio_event = get_generated_audio(text)\n",
    "  #From get_generated_audio, you will get events in a string format, from that we need to extract the url\n",
    "  final_response = {\n",
    "      \"audio_url\": '',\n",
    "      \"message\": ''\n",
    "  }\n",
    "  if generated_audio_event[\"type\"] == 'SUCCESS':\n",
    "    audio_urls = extract_urls(generated_audio_event[\"response\"])\n",
    "    if len(audio_urls) == 0:\n",
    "      final_response['message'] = \"No audio file link found in generated event\"\n",
    "    else:\n",
    "      final_response['audio_url'] = audio_urls[-1]\n",
    "  else:\n",
    "    final_response['message'] = generated_audio_event['response']\n",
    "  return final_response\n",
    "\n",
    "def download_url(url):\n",
    "    try:\n",
    "        # Send a GET request to the URL to fetch the content\n",
    "        final_response = {\n",
    "            'content':'',\n",
    "            'error':''\n",
    "        }\n",
    "        response = requests.get(url)\n",
    "        # Check if the request was successful (status code 200)\n",
    "        if response.status_code == 200:\n",
    "            final_response['content'] = response.content\n",
    "        else:\n",
    "            final_response['error'] = f\"Failed to download the URL. Status code: {response.status_code}\"\n",
    "    except Exception as e:\n",
    "        final_response['error'] = f\"Failed to download the URL. Error: {e}\"\n",
    "    return final_response\n",
    "\n",
    "def get_filename_from_url(url):\n",
    "    # Use os.path.basename() to extract the file name from the URL\n",
    "    file_name = os.path.basename(url)\n",
    "    return file_name\n"
   ]
  },
  {
   "cell_type": "code",
   "execution_count": null,
   "metadata": {},
   "outputs": [],
   "source": [
    "def get_text_response(user_message):\n",
    "    response = llm_chain.predict(user_message = user_message)\n",
    "    return response"
   ]
  },
  {
   "cell_type": "code",
   "execution_count": null,
   "metadata": {},
   "outputs": [],
   "source": [
    "def get_text_response_and_audio_response(user_message):\n",
    "    response = get_text_response(user_message) # Getting the reply from Open AI\n",
    "    audio_reply_for_question_response = get_audio_reply_for_question(response)\n",
    "    final_response = {\n",
    "        'output_file_path': '',\n",
    "        'message':''\n",
    "    }\n",
    "    audio_url = audio_reply_for_question_response['audio_url']\n",
    "    if audio_url:\n",
    "      output_file_path=get_filename_from_url(audio_url)\n",
    "      download_url_response = download_url(audio_url)\n",
    "      audio_content = download_url_response['content']\n",
    "      if audio_content:\n",
    "        with open(output_file_path, \"wb\") as audio_file:\n",
    "          audio_file.write(audio_content)\n",
    "          final_response['output_file_path'] = output_file_path\n",
    "      else:\n",
    "          final_response['message'] = download_url_response['error']\n",
    "    else:\n",
    "      final_response['message'] = audio_reply_for_question_response['message']\n",
    "    return final_response"
   ]
  },
  {
   "cell_type": "code",
   "execution_count": null,
   "metadata": {},
   "outputs": [],
   "source": [
    "def chat_bot_response(message, history):\n",
    "    text_and_audio_response = get_text_response_and_audio_response(message)\n",
    "    output_file_path = text_and_audio_response['output_file_path']\n",
    "    if output_file_path:\n",
    "      return (text_and_audio_response['output_file_path'],)\n",
    "    else:\n",
    "      return text_and_audio_response['message']\n",
    "\n",
    "demo = gr.ChatInterface(chat_bot_response,examples=[\"How are you doing?\",\"What are your interests?\",\"Which places do you like to visit?\"])"
   ]
  },
  {
   "cell_type": "code",
   "execution_count": null,
   "metadata": {},
   "outputs": [],
   "source": [
    "if __name__ == \"__main__\":\n",
    "    demo.launch() #To create a public link, set `share=True` in `launch()`. To enable errors and logs, set `debug=True` in `launch()`."
   ]
  }
 ],
 "metadata": {
  "language_info": {
   "name": "python"
  },
  "orig_nbformat": 4
 },
 "nbformat": 4,
 "nbformat_minor": 2
}
